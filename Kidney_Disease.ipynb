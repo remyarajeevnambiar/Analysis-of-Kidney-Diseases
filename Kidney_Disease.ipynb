{
 "cells": [
  {
   "cell_type": "code",
   "execution_count": 32,
   "metadata": {},
   "outputs": [],
   "source": [
    "import numpy as np\n",
    "import pandas as pd\n",
    "from scipy import stats\n",
    "from sklearn import preprocessing\n",
    "from sklearn import metrics\n",
    "from pandas import Series as s\n",
    "from pandas import DataFrame as df\n",
    "from sklearn.neighbors import KNeighborsClassifier\n",
    "from sklearn.metrics import confusion_matrix,accuracy_score,classification_report\n",
    "from sklearn.model_selection import train_test_split,cross_val_score,KFold\n",
    "import matplotlib.pyplot as plt\n",
    "from sklearn.linear_model import LogisticRegression\n",
    "import seaborn as sns"
   ]
  },
  {
   "cell_type": "code",
   "execution_count": 2,
   "metadata": {},
   "outputs": [
    {
     "name": "stdout",
     "output_type": "stream",
     "text": [
      "      id   age    bp     sg   al   su     rbc        pc         pcc  \\\n",
      "0      0  48.0  80.0  1.020  1.0  0.0     NaN    normal  notpresent   \n",
      "1      1   7.0  50.0  1.020  4.0  0.0     NaN    normal  notpresent   \n",
      "2      2  62.0  80.0  1.010  2.0  3.0  normal    normal  notpresent   \n",
      "3      3  48.0  70.0  1.005  4.0  0.0  normal  abnormal     present   \n",
      "4      4  51.0  80.0  1.010  2.0  0.0  normal    normal  notpresent   \n",
      "..   ...   ...   ...    ...  ...  ...     ...       ...         ...   \n",
      "395  395  55.0  80.0  1.020  0.0  0.0  normal    normal  notpresent   \n",
      "396  396  42.0  70.0  1.025  0.0  0.0  normal    normal  notpresent   \n",
      "397  397  12.0  80.0  1.020  0.0  0.0  normal    normal  notpresent   \n",
      "398  398  17.0  60.0  1.025  0.0  0.0  normal    normal  notpresent   \n",
      "399  399  58.0  80.0  1.025  0.0  0.0  normal    normal  notpresent   \n",
      "\n",
      "             ba  ...  pcv    wc   rc  htn   dm  cad appet   pe  ane  \\\n",
      "0    notpresent  ...   44  7800  5.2  yes  yes   no  good   no   no   \n",
      "1    notpresent  ...   38  6000  NaN   no   no   no  good   no   no   \n",
      "2    notpresent  ...   31  7500  NaN   no  yes   no  poor   no  yes   \n",
      "3    notpresent  ...   32  6700  3.9  yes   no   no  poor  yes  yes   \n",
      "4    notpresent  ...   35  7300  4.6   no   no   no  good   no   no   \n",
      "..          ...  ...  ...   ...  ...  ...  ...  ...   ...  ...  ...   \n",
      "395  notpresent  ...   47  6700  4.9   no   no   no  good   no   no   \n",
      "396  notpresent  ...   54  7800  6.2   no   no   no  good   no   no   \n",
      "397  notpresent  ...   49  6600  5.4   no   no   no  good   no   no   \n",
      "398  notpresent  ...   51  7200  5.9   no   no   no  good   no   no   \n",
      "399  notpresent  ...   53  6800  6.1   no   no   no  good   no   no   \n",
      "\n",
      "    classification  \n",
      "0              ckd  \n",
      "1              ckd  \n",
      "2              ckd  \n",
      "3              ckd  \n",
      "4              ckd  \n",
      "..             ...  \n",
      "395         notckd  \n",
      "396         notckd  \n",
      "397         notckd  \n",
      "398         notckd  \n",
      "399         notckd  \n",
      "\n",
      "[400 rows x 26 columns]\n"
     ]
    }
   ],
   "source": [
    "data=pd.read_csv(r\"C:\\\\Users\\\\HP\\downloads\\kidney_disease.csv\")\n",
    "print(data)"
   ]
  },
  {
   "cell_type": "code",
   "execution_count": 3,
   "metadata": {},
   "outputs": [],
   "source": [
    "\n",
    "data.fillna(0, inplace=True)"
   ]
  },
  {
   "cell_type": "code",
   "execution_count": 4,
   "metadata": {},
   "outputs": [],
   "source": [
    "\n",
    "def f(row):\n",
    "    if row['pot'] >0 and row['pot']<3.5:\n",
    "        val = \"Low\"\n",
    "    elif row['pot'] >=3.5 and row['pot']<=5.0:\n",
    "        val = \"safe\"\n",
    "    elif row['pot']>=5.1 and row['pot']<=6.0:\n",
    "        val = \"Caution\"\n",
    "    elif row['pot']>=6.1:\n",
    "        val=\"danger\"\n",
    "    else:\n",
    "        val=\"nodata\"\n",
    "    return val"
   ]
  },
  {
   "cell_type": "code",
   "execution_count": 7,
   "metadata": {},
   "outputs": [],
   "source": [
    "\n",
    "data['Outcome'] = data.apply(f, axis=1)"
   ]
  },
  {
   "cell_type": "code",
   "execution_count": 8,
   "metadata": {},
   "outputs": [
    {
     "data": {
      "text/html": [
       "<div>\n",
       "<style scoped>\n",
       "    .dataframe tbody tr th:only-of-type {\n",
       "        vertical-align: middle;\n",
       "    }\n",
       "\n",
       "    .dataframe tbody tr th {\n",
       "        vertical-align: top;\n",
       "    }\n",
       "\n",
       "    .dataframe thead th {\n",
       "        text-align: right;\n",
       "    }\n",
       "</style>\n",
       "<table border=\"1\" class=\"dataframe\">\n",
       "  <thead>\n",
       "    <tr style=\"text-align: right;\">\n",
       "      <th></th>\n",
       "      <th>id</th>\n",
       "      <th>age</th>\n",
       "      <th>bp</th>\n",
       "      <th>sg</th>\n",
       "      <th>al</th>\n",
       "      <th>su</th>\n",
       "      <th>bgr</th>\n",
       "      <th>bu</th>\n",
       "      <th>sc</th>\n",
       "      <th>sod</th>\n",
       "      <th>pot</th>\n",
       "      <th>hemo</th>\n",
       "    </tr>\n",
       "  </thead>\n",
       "  <tbody>\n",
       "    <tr>\n",
       "      <th>count</th>\n",
       "      <td>400.000000</td>\n",
       "      <td>400.000000</td>\n",
       "      <td>400.000000</td>\n",
       "      <td>400.000000</td>\n",
       "      <td>400.00000</td>\n",
       "      <td>400.000000</td>\n",
       "      <td>400.000000</td>\n",
       "      <td>400.000000</td>\n",
       "      <td>400.000000</td>\n",
       "      <td>400.000000</td>\n",
       "      <td>400.000000</td>\n",
       "      <td>400.000000</td>\n",
       "    </tr>\n",
       "    <tr>\n",
       "      <th>mean</th>\n",
       "      <td>199.500000</td>\n",
       "      <td>50.325000</td>\n",
       "      <td>74.175000</td>\n",
       "      <td>0.897862</td>\n",
       "      <td>0.90000</td>\n",
       "      <td>0.395000</td>\n",
       "      <td>131.752500</td>\n",
       "      <td>54.698000</td>\n",
       "      <td>2.941875</td>\n",
       "      <td>107.616250</td>\n",
       "      <td>3.609250</td>\n",
       "      <td>10.898000</td>\n",
       "    </tr>\n",
       "    <tr>\n",
       "      <th>std</th>\n",
       "      <td>115.614301</td>\n",
       "      <td>18.616951</td>\n",
       "      <td>18.766989</td>\n",
       "      <td>0.328075</td>\n",
       "      <td>1.31313</td>\n",
       "      <td>1.040038</td>\n",
       "      <td>87.995906</td>\n",
       "      <td>50.780641</td>\n",
       "      <td>5.651664</td>\n",
       "      <td>57.548745</td>\n",
       "      <td>3.410949</td>\n",
       "      <td>5.016848</td>\n",
       "    </tr>\n",
       "    <tr>\n",
       "      <th>min</th>\n",
       "      <td>0.000000</td>\n",
       "      <td>0.000000</td>\n",
       "      <td>0.000000</td>\n",
       "      <td>0.000000</td>\n",
       "      <td>0.00000</td>\n",
       "      <td>0.000000</td>\n",
       "      <td>0.000000</td>\n",
       "      <td>0.000000</td>\n",
       "      <td>0.000000</td>\n",
       "      <td>0.000000</td>\n",
       "      <td>0.000000</td>\n",
       "      <td>0.000000</td>\n",
       "    </tr>\n",
       "    <tr>\n",
       "      <th>25%</th>\n",
       "      <td>99.750000</td>\n",
       "      <td>40.750000</td>\n",
       "      <td>70.000000</td>\n",
       "      <td>1.010000</td>\n",
       "      <td>0.00000</td>\n",
       "      <td>0.000000</td>\n",
       "      <td>93.000000</td>\n",
       "      <td>25.000000</td>\n",
       "      <td>0.900000</td>\n",
       "      <td>124.000000</td>\n",
       "      <td>3.275000</td>\n",
       "      <td>9.375000</td>\n",
       "    </tr>\n",
       "    <tr>\n",
       "      <th>50%</th>\n",
       "      <td>199.500000</td>\n",
       "      <td>54.000000</td>\n",
       "      <td>75.000000</td>\n",
       "      <td>1.015000</td>\n",
       "      <td>0.00000</td>\n",
       "      <td>0.000000</td>\n",
       "      <td>114.500000</td>\n",
       "      <td>40.000000</td>\n",
       "      <td>1.200000</td>\n",
       "      <td>136.000000</td>\n",
       "      <td>4.050000</td>\n",
       "      <td>12.000000</td>\n",
       "    </tr>\n",
       "    <tr>\n",
       "      <th>75%</th>\n",
       "      <td>299.250000</td>\n",
       "      <td>64.000000</td>\n",
       "      <td>80.000000</td>\n",
       "      <td>1.020000</td>\n",
       "      <td>2.00000</td>\n",
       "      <td>0.000000</td>\n",
       "      <td>150.000000</td>\n",
       "      <td>61.750000</td>\n",
       "      <td>2.725000</td>\n",
       "      <td>141.000000</td>\n",
       "      <td>4.800000</td>\n",
       "      <td>14.625000</td>\n",
       "    </tr>\n",
       "    <tr>\n",
       "      <th>max</th>\n",
       "      <td>399.000000</td>\n",
       "      <td>90.000000</td>\n",
       "      <td>180.000000</td>\n",
       "      <td>1.025000</td>\n",
       "      <td>5.00000</td>\n",
       "      <td>5.000000</td>\n",
       "      <td>490.000000</td>\n",
       "      <td>391.000000</td>\n",
       "      <td>76.000000</td>\n",
       "      <td>163.000000</td>\n",
       "      <td>47.000000</td>\n",
       "      <td>17.800000</td>\n",
       "    </tr>\n",
       "  </tbody>\n",
       "</table>\n",
       "</div>"
      ],
      "text/plain": [
       "               id         age          bp          sg         al          su  \\\n",
       "count  400.000000  400.000000  400.000000  400.000000  400.00000  400.000000   \n",
       "mean   199.500000   50.325000   74.175000    0.897862    0.90000    0.395000   \n",
       "std    115.614301   18.616951   18.766989    0.328075    1.31313    1.040038   \n",
       "min      0.000000    0.000000    0.000000    0.000000    0.00000    0.000000   \n",
       "25%     99.750000   40.750000   70.000000    1.010000    0.00000    0.000000   \n",
       "50%    199.500000   54.000000   75.000000    1.015000    0.00000    0.000000   \n",
       "75%    299.250000   64.000000   80.000000    1.020000    2.00000    0.000000   \n",
       "max    399.000000   90.000000  180.000000    1.025000    5.00000    5.000000   \n",
       "\n",
       "              bgr          bu          sc         sod         pot        hemo  \n",
       "count  400.000000  400.000000  400.000000  400.000000  400.000000  400.000000  \n",
       "mean   131.752500   54.698000    2.941875  107.616250    3.609250   10.898000  \n",
       "std     87.995906   50.780641    5.651664   57.548745    3.410949    5.016848  \n",
       "min      0.000000    0.000000    0.000000    0.000000    0.000000    0.000000  \n",
       "25%     93.000000   25.000000    0.900000  124.000000    3.275000    9.375000  \n",
       "50%    114.500000   40.000000    1.200000  136.000000    4.050000   12.000000  \n",
       "75%    150.000000   61.750000    2.725000  141.000000    4.800000   14.625000  \n",
       "max    490.000000  391.000000   76.000000  163.000000   47.000000   17.800000  "
      ]
     },
     "execution_count": 8,
     "metadata": {},
     "output_type": "execute_result"
    }
   ],
   "source": [
    "data.describe()"
   ]
  },
  {
   "cell_type": "code",
   "execution_count": 9,
   "metadata": {},
   "outputs": [],
   "source": [
    "\n",
    "data.drop('id', axis=1,inplace=True)"
   ]
  },
  {
   "cell_type": "code",
   "execution_count": 11,
   "metadata": {},
   "outputs": [
    {
     "name": "stdout",
     "output_type": "stream",
     "text": [
      "    age     bp     sg   al   su       rbc        pc         pcc          ba  \\\n",
      "0  48.0   80.0  1.020  1.0  0.0         0    normal  notpresent  notpresent   \n",
      "1   7.0   50.0  1.020  4.0  0.0         0    normal  notpresent  notpresent   \n",
      "2  62.0   80.0  1.010  2.0  3.0    normal    normal  notpresent  notpresent   \n",
      "3  48.0   70.0  1.005  4.0  0.0    normal  abnormal     present  notpresent   \n",
      "4  51.0   80.0  1.010  2.0  0.0    normal    normal  notpresent  notpresent   \n",
      "5  60.0   90.0  1.015  3.0  0.0         0         0  notpresent  notpresent   \n",
      "6  68.0   70.0  1.010  0.0  0.0         0    normal  notpresent  notpresent   \n",
      "7  24.0    0.0  1.015  2.0  4.0    normal  abnormal  notpresent  notpresent   \n",
      "8  52.0  100.0  1.015  3.0  0.0    normal  abnormal     present  notpresent   \n",
      "9  53.0   90.0  1.020  2.0  0.0  abnormal  abnormal     present  notpresent   \n",
      "\n",
      "     bgr  ...     wc   rc  htn   dm  cad appet   pe  ane classification  \\\n",
      "0  121.0  ...   7800  5.2  yes  yes   no  good   no   no            ckd   \n",
      "1    0.0  ...   6000    0   no   no   no  good   no   no            ckd   \n",
      "2  423.0  ...   7500    0   no  yes   no  poor   no  yes            ckd   \n",
      "3  117.0  ...   6700  3.9  yes   no   no  poor  yes  yes            ckd   \n",
      "4  106.0  ...   7300  4.6   no   no   no  good   no   no            ckd   \n",
      "5   74.0  ...   7800  4.4  yes  yes   no  good  yes   no            ckd   \n",
      "6  100.0  ...      0    0   no   no   no  good   no   no            ckd   \n",
      "7  410.0  ...   6900    5   no  yes   no  good  yes   no            ckd   \n",
      "8  138.0  ...   9600  4.0  yes  yes   no  good   no  yes            ckd   \n",
      "9   70.0  ...  12100  3.7  yes  yes   no  poor   no  yes            ckd   \n",
      "\n",
      "  Outcome  \n",
      "0  nodata  \n",
      "1  nodata  \n",
      "2  nodata  \n",
      "3     Low  \n",
      "4  nodata  \n",
      "5     Low  \n",
      "6    safe  \n",
      "7  nodata  \n",
      "8  nodata  \n",
      "9    safe  \n",
      "\n",
      "[10 rows x 26 columns]\n"
     ]
    }
   ],
   "source": [
    "print(data.head(10))"
   ]
  },
  {
   "cell_type": "code",
   "execution_count": 31,
   "metadata": {},
   "outputs": [
    {
     "data": {
      "image/png": "[encoded data removed]",
      "text/plain": [
       "<Figure size 720x720 with 2 Axes>"
      ]
     },
     "metadata": {
      "needs_background": "light"
     },
     "output_type": "display_data"
    }
   ],
   "source": [
    "## Correlation\n",
    "#get correlations of each features in dataset\n",
    "corrmat = data.corr()\n",
    "top_corr_features = corrmat.index\n",
    "plt.figure(figsize=(10,10))\n",
    "#plot heat map\n",
    "g=sns.heatmap(data[top_corr_features].corr(),annot=True,cmap=\"YlGnBu\")"
   ]
  },
  {
   "cell_type": "code",
   "execution_count": 12,
   "metadata": {},
   "outputs": [],
   "source": [
    "\n",
    "def f(row):\n",
    "    if row['Outcome'] == 'safe':\n",
    "        val=0\n",
    "    else:\n",
    "        val=1\n",
    "    return val"
   ]
  },
  {
   "cell_type": "code",
   "execution_count": 14,
   "metadata": {},
   "outputs": [],
   "source": [
    "data['Outcome1'] = data.apply(f, axis=1)"
   ]
  },
  {
   "cell_type": "code",
   "execution_count": 16,
   "metadata": {},
   "outputs": [],
   "source": [
    "data1 = data[['age','bp','sg','al','su','rbc','pc','pcc','bgr','bu','sc','sod','pot','hemo','pcv','wc','rc','appet','ane','classification','Outcome1']]"
   ]
  },
  {
   "cell_type": "code",
   "execution_count": 19,
   "metadata": {},
   "outputs": [],
   "source": [
    "data2=pd.DataFrame({col: data1[col].astype('category').cat.codes for col in data1}, index=data1.index)"
   ]
  },
  {
   "cell_type": "code",
   "execution_count": 20,
   "metadata": {},
   "outputs": [
    {
     "name": "stdout",
     "output_type": "stream",
     "text": [
      "     age  bp  sg  al  su  rbc  pc  pcc  bgr  bu  ...  sod  pot  hemo  pcv  wc  \\\n",
      "0     41   4   4   1   0    0   2    1   49  24  ...    0    0    91   33  73   \n",
      "1      6   1   4   4   0    0   2    1    0   6  ...    0    0    50   27  57   \n",
      "2     55   4   2   2   3    2   2    1  141  41  ...    0    0    33   20  71   \n",
      "3     41   3   1   4   0    2   1    2   45  44  ...    3    1    49   21  63   \n",
      "4     44   4   2   2   0    2   2    1   34  14  ...    0    0    53   24  69   \n",
      "..   ...  ..  ..  ..  ..  ...  ..  ...  ...  ..  ...  ...  ...   ...  ...  ..   \n",
      "395   48   4   4   0   0    2   2    1   65  36  ...   33   23    94   36  63   \n",
      "396   35   3   5   0   0    2   2    1    4  19  ...   26    9   102   43  73   \n",
      "397    9   4   4   0   0    2   2    1   28  14  ...   22   18    95   38  62   \n",
      "398   12   2   5   0   0    2   2    1   42  37  ...   20   23    79   40  68   \n",
      "399   51   4   5   0   0    2   2    1   58   6  ...   26    9    95   42  64   \n",
      "\n",
      "     rc  appet  ane  classification  Outcome1  \n",
      "0    35      1    1               0         1  \n",
      "1     0      1    1               0         1  \n",
      "2     0      2    2               0         1  \n",
      "3    20      2    2               0         1  \n",
      "4    28      1    1               0         1  \n",
      "..   ..    ...  ...             ...       ...  \n",
      "395  31      1    1               2         0  \n",
      "396  45      1    1               2         0  \n",
      "397  37      1    1               2         0  \n",
      "398  42      1    1               2         0  \n",
      "399  44      1    1               2         0  \n",
      "\n",
      "[400 rows x 21 columns]\n"
     ]
    }
   ],
   "source": [
    "print(data2)"
   ]
  },
  {
   "cell_type": "code",
   "execution_count": null,
   "metadata": {},
   "outputs": [],
   "source": [
    "#KNN Algorithm"
   ]
  },
  {
   "cell_type": "code",
   "execution_count": 21,
   "metadata": {},
   "outputs": [],
   "source": [
    "from sklearn.model_selection import train_test_split\n",
    "X_train, X_test, y_train, y_test = train_test_split(\n",
    "    data2.loc[:, data2.columns != 'Outcome1'], data2['Outcome1'],\n",
    "    stratify=data2['Outcome1'], random_state=66)\n"
   ]
  },
  {
   "cell_type": "code",
   "execution_count": 22,
   "metadata": {},
   "outputs": [
    {
     "name": "stdout",
     "output_type": "stream",
     "text": [
      "Accuracy of K-NN classifier on training set: 0.83\n",
      "Accuracy of K-NN classifier on test set: 0.80\n"
     ]
    }
   ],
   "source": [
    "from sklearn.neighbors import KNeighborsClassifier\n",
    "training_accuracy = []\n",
    "test_accuracy = []\n",
    "knn = KNeighborsClassifier(n_neighbors=9)\n",
    "knn.fit(X_train, y_train)\n",
    "print('Accuracy of K-NN classifier on training set: {:.2f}'.format(knn.score(X_train, y_train)))\n",
    "print('Accuracy of K-NN classifier on test set: {:.2f}'.format(knn.score(X_test, y_test)))"
   ]
  },
  {
   "cell_type": "code",
   "execution_count": null,
   "metadata": {},
   "outputs": [],
   "source": [
    "#Logistic Regression"
   ]
  },
  {
   "cell_type": "code",
   "execution_count": 24,
   "metadata": {},
   "outputs": [],
   "source": [
    "X_train, X_test, y_train, y_test = train_test_split(\n",
    "    data2.loc[:, data2.columns != 'Outcome1'], data2['Outcome1'],\n",
    "    stratify=data2['Outcome1'], random_state=66)\n"
   ]
  },
  {
   "cell_type": "code",
   "execution_count": 25,
   "metadata": {},
   "outputs": [
    {
     "name": "stderr",
     "output_type": "stream",
     "text": [
      "C:\\ProgramData\\Anaconda3\\lib\\site-packages\\sklearn\\linear_model\\logistic.py:432: FutureWarning: Default solver will be changed to 'lbfgs' in 0.22. Specify a solver to silence this warning.\n",
      "  FutureWarning)\n"
     ]
    },
    {
     "name": "stdout",
     "output_type": "stream",
     "text": [
      "Training set score: 0.8533333333333334\n",
      "Test set score: 0.77\n"
     ]
    }
   ],
   "source": [
    "logreg = LogisticRegression().fit(X_train, y_train)\n",
    "print( \"Training set score: {}\".format(logreg.score(X_train, y_train)))\n",
    "print (\"Test set score: {}\".format(logreg.score(X_test, y_test)))"
   ]
  },
  {
   "cell_type": "code",
   "execution_count": null,
   "metadata": {},
   "outputs": [],
   "source": []
  }
 ],
 "metadata": {
  "kernelspec": {
   "display_name": "Python 3",
   "language": "python",
   "name": "python3"
  },
  "language_info": {
   "codemirror_mode": {
    "name": "ipython",
    "version": 3
   },
   "file_extension": ".py",
   "mimetype": "text/x-python",
   "name": "python",
   "nbconvert_exporter": "python",
   "pygments_lexer": "ipython3",
   "version": "3.7.5"
  }
 },
 "nbformat": 4,
 "nbformat_minor": 2
}
